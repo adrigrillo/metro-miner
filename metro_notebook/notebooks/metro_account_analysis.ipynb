{
 "cells": [
  {
   "cell_type": "markdown",
   "metadata": {},
   "source": [
    "# @metro_madrid tweets analysis\n",
    "\n",
    "This notebook will be focused in the analysis of the official metro account tweets"
   ]
  },
  {
   "cell_type": "markdown",
   "metadata": {},
   "source": [
    "Load of the libraries and set of globals variables, in this case, the id of the account (@metro_madrid)"
   ]
  },
  {
   "cell_type": "code",
   "execution_count": 74,
   "metadata": {},
   "outputs": [],
   "source": [
    "import configparser\n",
    "import json\n",
    "\n",
    "import spacy\n",
    "from spacy.matcher import PhraseMatcher\n"
   ]
  },
  {
   "cell_type": "code",
   "execution_count": 54,
   "metadata": {},
   "outputs": [],
   "source": [
    "nlp = spacy.load('es_core_news_md')"
   ]
  },
  {
   "cell_type": "code",
   "execution_count": 75,
   "metadata": {},
   "outputs": [
    {
     "data": {
      "text/plain": [
       "['notebooks/config.ini']"
      ]
     },
     "execution_count": 75,
     "metadata": {},
     "output_type": "execute_result"
    }
   ],
   "source": [
    "config = configparser.ConfigParser()\n",
    "config.read('notebooks/config.ini')"
   ]
  },
  {
   "cell_type": "code",
   "execution_count": 76,
   "metadata": {},
   "outputs": [],
   "source": [
    "faults_texts = config['keywords']['faults'].split(',')\n",
    "metro_account_id = config['accounts']['metro_madrid']"
   ]
  },
  {
   "cell_type": "markdown",
   "metadata": {},
   "source": [
    "Save the tweets in list of the tweet object used"
   ]
  },
  {
   "cell_type": "code",
   "execution_count": 46,
   "metadata": {
    "collapsed": false
   },
   "outputs": [],
   "source": [
    "with open('data/fault_tweets.json') as json_data:\n",
    "    faults = json.load(json_data)\n",
    "with open('data/solution_tweets.json') as json_data:\n",
    "    solutions = json.load(json_data)\n",
    "with open('data/strikes_tweets.json') as json_data:\n",
    "    strikes = json.load(json_data)"
   ]
  },
  {
   "cell_type": "code",
   "execution_count": 66,
   "metadata": {},
   "outputs": [
    {
     "name": "stdout",
     "output_type": "stream",
     "text": [
      "{'text': 'Circulación Interrumpida en L6, entre Laguna y Moncloa en ambos sentidos, por causas técnicas. Tiempo estimado más de 15 minutos.', 'date': '2018-04-05T10:08:34', 'user_id': 182764833, 'place': None, 'country': None, 'country_code': None}\n['servicio interrumpido', 'circulación interrumpida', 'circulación lenta', 'tiempo estimado solución', 'asistencia sanitaria a un viajero', 'incidencia en instalaciones', 'incidencia', 'causas técnicas', 'incidencia en un tren']\n"
     ]
    }
   ],
   "source": [
    "print(faults[0])\n",
    "print(faults_texts)"
   ]
  },
  {
   "cell_type": "markdown",
   "metadata": {},
   "source": [
    "Extract faults texts that will be used to match. First generates a function to do something when it is a match"
   ]
  },
  {
   "cell_type": "code",
   "execution_count": 77,
   "metadata": {},
   "outputs": [],
   "source": [
    "def add_event_ent(matcher, doc, i, matches):\n",
    "    print('match', doc)"
   ]
  },
  {
   "cell_type": "code",
   "execution_count": 78,
   "metadata": {},
   "outputs": [],
   "source": [
    "matcher = PhraseMatcher(nlp.vocab, max_length=6)\n",
    "patterns = [nlp(text) for text in faults_texts]\n",
    "matcher.add('faults', add_event_ent, *patterns)"
   ]
  },
  {
   "cell_type": "code",
   "execution_count": null,
   "metadata": {
    "collapsed": true
   },
   "outputs": [
    {
     "name": "stdout",
     "output_type": "stream",
     "text": [
      "match Circulación Interrumpida en L6, entre Laguna y Moncloa en ambos sentidos, por causas técnicas. Tiempo estimado más de 15 minutos.\n[(11584145820914597031, 14, 16)]\nmatch Circulación lenta en L6 entre Príncipe Pío y Metropolitano, dirección andén 2, por causas técnicas.\n[(11584145820914597031, 15, 17)]\nmatch Circulación interrumpida en L10 en ambos sentidos entre Nuevos Ministerios y Begoña por asistencia sanitaria a un viajero. Tiempo estimado de solución +30 min\n[(11584145820914597031, 13, 18)]\nmatch El tramo de circulación interrumpida en L10 por asistencia sanitaria a un viajero pasa a ser entre Begoña y Cuzco. Tiempo estimado solución + 30 min.\nmatch El tramo de circulación interrumpida en L10 por asistencia sanitaria a un viajero pasa a ser entre Begoña y Cuzco. Tiempo estimado solución + 30 min.\n[(11584145820914597031, 3, 5), (11584145820914597031, 8, 13)]\nmatch Circulación lenta en L1 entre Bilbao y Pinar de Chamartín, en ambos sentidos, por causas técnicas.\n[(11584145820914597031, 16, 18)]\nmatch Circulación lenta en L2 entre las estaciones de Goya y Avenida de Guadalajara, en ambos sentidos por causas técnicas. Tiempo estimado de solución: +30 min\n[(11584145820914597031, 18, 20)]\nmatch Continúa la circulación lenta en L2, entre Goya y Avenida de Guadalajara, por causas técnicas. Tiempo estimado de solución: Hasta la finalización del servicio.\nmatch Continúa la circulación lenta en L2, entre Goya y Avenida de Guadalajara, por causas técnicas. Tiempo estimado de solución: Hasta la finalización del servicio.\n[(11584145820914597031, 2, 4), (11584145820914597031, 15, 17)]\n[]\nmatch Circulación lenta en L12 entre las estaciones de Parque Lisboa y Hospital de Móstoles en ambos sentidos por incidencia en un tren.\nmatch Circulación lenta en L12 entre las estaciones de Parque Lisboa y Hospital de Móstoles en ambos sentidos por incidencia en un tren.\n[(11584145820914597031, 18, 19), (11584145820914597031, 18, 22)]\nmatch Circulación interrumpida L9, entre Plaza de Castilla-Paco de Lucía, ambos sentidos, por causas técnicas. Tiempo estimado solución: +30min.\n[(11584145820914597031, 17, 19)]\nmatch Los trenes no efectúan parada en la estación de El Casar en L12 por incidencia en las instalaciones. Tiempo estimado de solución: +15 min.\n[(11584145820914597031, 14, 15)]\nmatch Circulación interrumpida en L3 entre Villaverde Alto y San Cristóbal en ambos sentidos por incidencia en un tren. Tiempo estimado +30 min\nmatch Circulación interrumpida en L3 entre Villaverde Alto y San Cristóbal en ambos sentidos por incidencia en un tren. Tiempo estimado +30 min\n[(11584145820914597031, 14, 15), (11584145820914597031, 14, 18)]\n"
     ]
    },
    {
     "name": "stdout",
     "output_type": "stream",
     "text": [
      "[]\nmatch Circulación lenta en L4 entre Pinar de Chamartín y Avenida de América, en ambos sentidos, por incidencia en instalaciones. Tiempo estimado de solución + 1 hora.\nmatch Circulación lenta en L4 entre Pinar de Chamartín y Avenida de América, en ambos sentidos, por incidencia en instalaciones. Tiempo estimado de solución + 1 hora.\n[(11584145820914597031, 18, 19), (11584145820914597031, 18, 21)]\n[]\n"
     ]
    }
   ],
   "source": [
    "for tweet in faults:\n",
    "    doc = nlp(tweet['text'])\n",
    "    match = matcher(doc)"
   ]
  },
  {
   "cell_type": "code",
   "execution_count": 42,
   "metadata": {},
   "outputs": [
    {
     "name": "stdout",
     "output_type": "stream",
     "text": [
      "Circulación 0 11 PER\nL1 21 23 MISC\nBilbao 30 36 LOC\nPinar de Chamartín 39 57 LOC\n"
     ]
    }
   ],
   "source": [
    "doc = nlp(faults[4]['text'])\n",
    "\n",
    "for ent in doc.ents:\n",
    "    print(ent.text, ent.start_char, ent.end_char, ent.label_)"
   ]
  },
  {
   "cell_type": "code",
   "execution_count": 13,
   "metadata": {},
   "outputs": [
    {
     "name": "stdout",
     "output_type": "stream",
     "text": [
      "Circulación\ninterrumpida\nen\nL10\nen\nambos\nsentidos\nentre\nNuevos\nMinisterios\ny\nBegoña\npor\nasistencia\nsanitaria\na\nun\nviajero\n.\nTiempo\nestimado\nde\nsolución\n+\n30\nmin\n"
     ]
    }
   ],
   "source": [
    ""
   ]
  }
 ],
 "metadata": {
  "kernelspec": {
   "display_name": "Python 2",
   "language": "python",
   "name": "python2"
  },
  "language_info": {
   "codemirror_mode": {
    "name": "ipython",
    "version": 2
   },
   "file_extension": ".py",
   "mimetype": "text/x-python",
   "name": "python",
   "nbconvert_exporter": "python",
   "pygments_lexer": "ipython2",
   "version": "2.7.6"
  }
 },
 "nbformat": 4,
 "nbformat_minor": 0
}
